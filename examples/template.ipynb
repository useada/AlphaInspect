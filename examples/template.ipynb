{
 "cells": [
  {
   "cell_type": "code",
   "execution_count": null,
   "metadata": {},
   "outputs": [],
   "source": [
    "import os\n",
    "import sys\n",
    "from pathlib import Path\n",
    "\n",
    "# 修改当前目录到上层目录，方便跨不同IDE中使用, Notebook不支持__file__\n",
    "# pwd = str(Path(__file__).parents[1])\n",
    "pwd=r'D:\\GitHub\\quantviz' # TODO\n",
    "os.chdir(pwd)\n",
    "sys.path.append(pwd)\n",
    "# ==============="
   ]
  },
  {
   "cell_type": "code",
   "execution_count": null,
   "metadata": {},
   "outputs": [],
   "source": [
    "factor = os.environ.get('factor'.upper(), 'SMA_010')\n",
    "fwd_ret_1 = os.environ.get('fwd_ret_1'.upper(), 'RETURN_OO_1')\n",
    "\n",
    "axvlines = ('2020-01-01', '2024-01-01',)\n",
    "\n",
    "factor, fwd_ret_1"
   ]
  },
  {
   "cell_type": "code",
   "execution_count": null,
   "metadata": {},
   "outputs": [],
   "source": [
    "import matplotlib.pyplot as plt\n",
    "import polars as pl\n",
    "\n",
    "from alphainspect.reports import create_3x2_sheet\n",
    "from alphainspect.utils import with_factor_quantile"
   ]
  },
  {
   "cell_type": "code",
   "execution_count": null,
   "metadata": {},
   "outputs": [],
   "source": [
    "df = pl.read_parquet('data/data.parquet', columns=['date', 'asset', factor, fwd_ret_1])\n",
    "df = with_factor_quantile(df, factor, quantiles=10)"
   ]
  },
  {
   "cell_type": "code",
   "execution_count": null,
   "metadata": {},
   "outputs": [],
   "source": [
    "create_3x2_sheet(df, factor, fwd_ret_1, axvlines=axvlines)"
   ]
  }
 ],
 "metadata": {
  "kernelspec": {
   "display_name": "py311_1",
   "language": "python",
   "name": "python3"
  },
  "language_info": {
   "codemirror_mode": {
    "name": "ipython",
    "version": 3
   },
   "file_extension": ".py",
   "mimetype": "text/x-python",
   "name": "python",
   "nbconvert_exporter": "python",
   "pygments_lexer": "ipython3",
   "version": "3.11.3"
  }
 },
 "nbformat": 4,
 "nbformat_minor": 2
}
